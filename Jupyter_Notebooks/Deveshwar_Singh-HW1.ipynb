{
 "cells": [
  {
   "cell_type": "markdown",
   "metadata": {},
   "source": [
    "## HomeWork 1 Due at Mid-night 9/16/2019\n",
    "\n",
    "## Deveshwar Singh"
   ]
  },
  {
   "cell_type": "markdown",
   "metadata": {},
   "source": [
    "## Late Policy: Take off 50% after one day, 80% after two days"
   ]
  },
  {
   "cell_type": "markdown",
   "metadata": {},
   "source": [
    "**Make sure you have pandasql installed. If not, make sure you run the code in the following cell**"
   ]
  },
  {
   "cell_type": "code",
   "execution_count": 123,
   "metadata": {},
   "outputs": [],
   "source": [
    "import os\n",
    "try:\n",
    "    import pandasql as ps\n",
    "except:\n",
    "    print(\"Failed in import pandasql\")\n",
    "    os.system(\"pip install pandasql\")"
   ]
  },
  {
   "cell_type": "markdown",
   "metadata": {},
   "source": [
    "**Import all standard libaries**"
   ]
  },
  {
   "cell_type": "code",
   "execution_count": 124,
   "metadata": {},
   "outputs": [],
   "source": [
    "import pandas as pd\n",
    "import pandasql as ps\n",
    "import numpy as np\n",
    "import matplotlib.pyplot as plt\n",
    "import seaborn as sns"
   ]
  },
  {
   "cell_type": "markdown",
   "metadata": {},
   "source": [
    "## Loading MPG dataset ##"
   ]
  },
  {
   "cell_type": "code",
   "execution_count": 125,
   "metadata": {},
   "outputs": [
    {
     "name": "stdout",
     "output_type": "stream",
     "text": [
      "(400, 9)\n"
     ]
    },
    {
     "data": {
      "text/html": [
       "<div>\n",
       "<style scoped>\n",
       "    .dataframe tbody tr th:only-of-type {\n",
       "        vertical-align: middle;\n",
       "    }\n",
       "\n",
       "    .dataframe tbody tr th {\n",
       "        vertical-align: top;\n",
       "    }\n",
       "\n",
       "    .dataframe thead th {\n",
       "        text-align: right;\n",
       "    }\n",
       "</style>\n",
       "<table border=\"1\" class=\"dataframe\">\n",
       "  <thead>\n",
       "    <tr style=\"text-align: right;\">\n",
       "      <th></th>\n",
       "      <th>mpg</th>\n",
       "      <th>cylinders</th>\n",
       "      <th>displacement</th>\n",
       "      <th>horsepower</th>\n",
       "      <th>weight</th>\n",
       "      <th>acceleration</th>\n",
       "      <th>model_year</th>\n",
       "      <th>origin</th>\n",
       "      <th>name</th>\n",
       "    </tr>\n",
       "  </thead>\n",
       "  <tbody>\n",
       "    <tr>\n",
       "      <td>0</td>\n",
       "      <td>18.0</td>\n",
       "      <td>8</td>\n",
       "      <td>307.0</td>\n",
       "      <td>130.0</td>\n",
       "      <td>3504</td>\n",
       "      <td>12.0</td>\n",
       "      <td>70</td>\n",
       "      <td>usa</td>\n",
       "      <td>chevrolet chevelle malibu</td>\n",
       "    </tr>\n",
       "    <tr>\n",
       "      <td>1</td>\n",
       "      <td>15.0</td>\n",
       "      <td>8</td>\n",
       "      <td>350.0</td>\n",
       "      <td>165.0</td>\n",
       "      <td>3693</td>\n",
       "      <td>11.5</td>\n",
       "      <td>70</td>\n",
       "      <td>usa</td>\n",
       "      <td>buick skylark 320</td>\n",
       "    </tr>\n",
       "    <tr>\n",
       "      <td>2</td>\n",
       "      <td>18.0</td>\n",
       "      <td>8</td>\n",
       "      <td>318.0</td>\n",
       "      <td>150.0</td>\n",
       "      <td>3436</td>\n",
       "      <td>11.0</td>\n",
       "      <td>70</td>\n",
       "      <td>usa</td>\n",
       "      <td>plymouth satellite</td>\n",
       "    </tr>\n",
       "    <tr>\n",
       "      <td>3</td>\n",
       "      <td>16.0</td>\n",
       "      <td>8</td>\n",
       "      <td>304.0</td>\n",
       "      <td>150.0</td>\n",
       "      <td>3433</td>\n",
       "      <td>12.0</td>\n",
       "      <td>70</td>\n",
       "      <td>usa</td>\n",
       "      <td>amc rebel sst</td>\n",
       "    </tr>\n",
       "    <tr>\n",
       "      <td>4</td>\n",
       "      <td>17.0</td>\n",
       "      <td>8</td>\n",
       "      <td>302.0</td>\n",
       "      <td>140.0</td>\n",
       "      <td>3449</td>\n",
       "      <td>10.5</td>\n",
       "      <td>70</td>\n",
       "      <td>usa</td>\n",
       "      <td>ford torino</td>\n",
       "    </tr>\n",
       "  </tbody>\n",
       "</table>\n",
       "</div>"
      ],
      "text/plain": [
       "    mpg  cylinders  displacement  horsepower  weight  acceleration  \\\n",
       "0  18.0          8         307.0       130.0    3504          12.0   \n",
       "1  15.0          8         350.0       165.0    3693          11.5   \n",
       "2  18.0          8         318.0       150.0    3436          11.0   \n",
       "3  16.0          8         304.0       150.0    3433          12.0   \n",
       "4  17.0          8         302.0       140.0    3449          10.5   \n",
       "\n",
       "   model_year origin                       name  \n",
       "0          70    usa  chevrolet chevelle malibu  \n",
       "1          70    usa          buick skylark 320  \n",
       "2          70    usa         plymouth satellite  \n",
       "3          70    usa              amc rebel sst  \n",
       "4          70    usa                ford torino  "
      ]
     },
     "execution_count": 125,
     "metadata": {},
     "output_type": "execute_result"
    }
   ],
   "source": [
    "mpg = pd.read_csv(\"mpg2.csv\")\n",
    "print(mpg.shape)\n",
    "mpg.head()"
   ]
  },
  {
   "cell_type": "markdown",
   "metadata": {},
   "source": [
    "## Question 1. Check if there are any null or NA"
   ]
  },
  {
   "cell_type": "markdown",
   "metadata": {},
   "source": [
    "**Type in your code here**"
   ]
  },
  {
   "cell_type": "code",
   "execution_count": 126,
   "metadata": {},
   "outputs": [
    {
     "data": {
      "text/plain": [
       "mpg              True\n",
       "cylinders       False\n",
       "displacement    False\n",
       "horsepower       True\n",
       "weight          False\n",
       "acceleration    False\n",
       "model_year      False\n",
       "origin          False\n",
       "name            False\n",
       "dtype: bool"
      ]
     },
     "execution_count": 126,
     "metadata": {},
     "output_type": "execute_result"
    }
   ],
   "source": [
    "mpg.isnull().any()#drops rows with nulls"
   ]
  },
  {
   "cell_type": "markdown",
   "metadata": {},
   "source": [
    "## Question 2. Remove any rows that has null or NA"
   ]
  },
  {
   "cell_type": "markdown",
   "metadata": {},
   "source": [
    "**Type in your code here**"
   ]
  },
  {
   "cell_type": "code",
   "execution_count": 127,
   "metadata": {},
   "outputs": [
    {
     "name": "stdout",
     "output_type": "stream",
     "text": [
      "(400, 9)\n",
      "(393, 9)\n"
     ]
    }
   ],
   "source": [
    "print(mpg.shape) #shows how many rows and columns there are before null drop\n",
    "mpg.dropna(inplace=True)\n",
    "print(mpg.shape)#shows how many rows and columnd there are after null drop"
   ]
  },
  {
   "cell_type": "markdown",
   "metadata": {},
   "source": [
    "## Question 3. Check if there is any outliers in the mpg field"
   ]
  },
  {
   "cell_type": "markdown",
   "metadata": {},
   "source": [
    "**Type in your code here**"
   ]
  },
  {
   "cell_type": "code",
   "execution_count": 128,
   "metadata": {},
   "outputs": [
    {
     "data": {
      "text/plain": [
       "<matplotlib.axes._subplots.AxesSubplot at 0x1a177835f8>"
      ]
     },
     "execution_count": 128,
     "metadata": {},
     "output_type": "execute_result"
    },
    {
     "data": {
      "image/png": "[encoded data removed]",
      "text/plain": [
       "<Figure size 432x288 with 1 Axes>"
      ]
     },
     "metadata": {
      "needs_background": "light"
     },
     "output_type": "display_data"
    }
   ],
   "source": [
    "mpg.plot.scatter(x='mpg',y='mpg')#shows a scatter plot to visually see any outliers "
   ]
  },
  {
   "cell_type": "markdown",
   "metadata": {},
   "source": [
    "## Question 4. Display and then Remove the one outlier row. You should now have 392 rows"
   ]
  },
  {
   "cell_type": "markdown",
   "metadata": {},
   "source": [
    "**Type in your code here**"
   ]
  },
  {
   "cell_type": "code",
   "execution_count": 129,
   "metadata": {},
   "outputs": [
    {
     "data": {
      "text/html": [
       "<div>\n",
       "<style scoped>\n",
       "    .dataframe tbody tr th:only-of-type {\n",
       "        vertical-align: middle;\n",
       "    }\n",
       "\n",
       "    .dataframe tbody tr th {\n",
       "        vertical-align: top;\n",
       "    }\n",
       "\n",
       "    .dataframe thead th {\n",
       "        text-align: right;\n",
       "    }\n",
       "</style>\n",
       "<table border=\"1\" class=\"dataframe\">\n",
       "  <thead>\n",
       "    <tr style=\"text-align: right;\">\n",
       "      <th></th>\n",
       "      <th>mpg</th>\n",
       "      <th>cylinders</th>\n",
       "      <th>displacement</th>\n",
       "      <th>horsepower</th>\n",
       "      <th>weight</th>\n",
       "      <th>acceleration</th>\n",
       "      <th>model_year</th>\n",
       "      <th>origin</th>\n",
       "      <th>name</th>\n",
       "    </tr>\n",
       "  </thead>\n",
       "  <tbody>\n",
       "    <tr>\n",
       "      <td>9</td>\n",
       "      <td>90.0</td>\n",
       "      <td>8</td>\n",
       "      <td>451.0</td>\n",
       "      <td>450.0</td>\n",
       "      <td>2555</td>\n",
       "      <td>8.0</td>\n",
       "      <td>2020</td>\n",
       "      <td>usa</td>\n",
       "      <td>tesla model Y</td>\n",
       "    </tr>\n",
       "  </tbody>\n",
       "</table>\n",
       "</div>"
      ],
      "text/plain": [
       "    mpg  cylinders  displacement  horsepower  weight  acceleration  \\\n",
       "9  90.0          8         451.0       450.0    2555           8.0   \n",
       "\n",
       "   model_year origin           name  \n",
       "9        2020    usa  tesla model Y  "
      ]
     },
     "execution_count": 129,
     "metadata": {},
     "output_type": "execute_result"
    }
   ],
   "source": [
    "mpg[mpg.mpg >60]#displaying the row with the outlier \n",
    "\n"
   ]
  },
  {
   "cell_type": "code",
   "execution_count": 130,
   "metadata": {},
   "outputs": [
    {
     "name": "stdout",
     "output_type": "stream",
     "text": [
      "(393, 9)\n",
      "(392, 9)\n"
     ]
    }
   ],
   "source": [
    "print(mpg.shape)#displays the number of rows before removal of outlier\n",
    "mpg = mpg[mpg.mpg < 60]#removes the outlier from the dataset\n",
    "print(mpg.shape)#displays the number of rows after removal\n",
    "mpg2=mpg#for use in question 9"
   ]
  },
  {
   "cell_type": "markdown",
   "metadata": {},
   "source": [
    "## Question 5. Calculate the average acceleration cars made in usa using SQL"
   ]
  },
  {
   "cell_type": "markdown",
   "metadata": {},
   "source": [
    "**Type in your code here**"
   ]
  },
  {
   "cell_type": "code",
   "execution_count": 131,
   "metadata": {},
   "outputs": [
    {
     "data": {
      "text/html": [
       "<div>\n",
       "<style scoped>\n",
       "    .dataframe tbody tr th:only-of-type {\n",
       "        vertical-align: middle;\n",
       "    }\n",
       "\n",
       "    .dataframe tbody tr th {\n",
       "        vertical-align: top;\n",
       "    }\n",
       "\n",
       "    .dataframe thead th {\n",
       "        text-align: right;\n",
       "    }\n",
       "</style>\n",
       "<table border=\"1\" class=\"dataframe\">\n",
       "  <thead>\n",
       "    <tr style=\"text-align: right;\">\n",
       "      <th></th>\n",
       "      <th>avg(acceleration)</th>\n",
       "      <th>origin</th>\n",
       "    </tr>\n",
       "  </thead>\n",
       "  <tbody>\n",
       "    <tr>\n",
       "      <td>0</td>\n",
       "      <td>14.990204</td>\n",
       "      <td>usa</td>\n",
       "    </tr>\n",
       "  </tbody>\n",
       "</table>\n",
       "</div>"
      ],
      "text/plain": [
       "   avg(acceleration) origin\n",
       "0          14.990204    usa"
      ]
     },
     "execution_count": 131,
     "metadata": {},
     "output_type": "execute_result"
    }
   ],
   "source": [
    "sql =\"select avg(acceleration), origin from mpg where origin ='usa'\"\n",
    "df = ps.sqldf(sql)\n",
    "df"
   ]
  },
  {
   "cell_type": "markdown",
   "metadata": {},
   "source": [
    "## Question 6. Calculate the average horsepower for each country using SQL"
   ]
  },
  {
   "cell_type": "markdown",
   "metadata": {},
   "source": [
    "**Type in your code here**"
   ]
  },
  {
   "cell_type": "code",
   "execution_count": 132,
   "metadata": {},
   "outputs": [
    {
     "name": "stdout",
     "output_type": "stream",
     "text": [
      "   avg(horsepower)  origin\n",
      "0        80.558824  europe\n",
      "1        79.835443   japan\n",
      "2       119.048980     usa\n"
     ]
    }
   ],
   "source": [
    "sql = \"select avg(horsepower), origin from mpg group by origin\"\n",
    "print(ps.sqldf(sql))"
   ]
  },
  {
   "cell_type": "markdown",
   "metadata": {},
   "source": [
    "## Question 7. Calculate the number of occurrences, mean, min, max of the weight for each country using SQL"
   ]
  },
  {
   "cell_type": "markdown",
   "metadata": {},
   "source": [
    "**Type in your code here**"
   ]
  },
  {
   "cell_type": "code",
   "execution_count": 133,
   "metadata": {},
   "outputs": [
    {
     "name": "stdout",
     "output_type": "stream",
     "text": [
      "   occurrences         mean   min   max  origin\n",
      "0           68  2433.470588  1825  3820  europe\n",
      "1           79  2221.227848  1613  2930   japan\n",
      "2          245  3372.489796  1800  5140     usa\n"
     ]
    }
   ],
   "source": [
    "sql= \"select count(weight) as occurrences, avg(weight) as mean, min(weight) as min, max(weight) as max, origin from mpg group by origin\"\n",
    "print(ps.sqldf(sql))"
   ]
  },
  {
   "cell_type": "markdown",
   "metadata": {},
   "source": [
    "## Question 8. Answer Question 7 but use Panada functions"
   ]
  },
  {
   "cell_type": "markdown",
   "metadata": {},
   "source": [
    "**Type in your code here**"
   ]
  },
  {
   "cell_type": "code",
   "execution_count": 1,
   "metadata": {},
   "outputs": [
    {
     "ename": "NameError",
     "evalue": "name 'mpg' is not defined",
     "output_type": "error",
     "traceback": [
      "\u001b[0;31m---------------------------------------------------------------------------\u001b[0m",
      "\u001b[0;31mNameError\u001b[0m                                 Traceback (most recent call last)",
      "\u001b[0;32m<ipython-input-1-9ba29a0a41e8>\u001b[0m in \u001b[0;36m<module>\u001b[0;34m\u001b[0m\n\u001b[0;32m----> 1\u001b[0;31m \u001b[0mmeanweight\u001b[0m \u001b[0;34m=\u001b[0m \u001b[0mmpg\u001b[0m\u001b[0;34m.\u001b[0m\u001b[0mgroupby\u001b[0m\u001b[0;34m(\u001b[0m\u001b[0;34m'origin'\u001b[0m\u001b[0;34m)\u001b[0m\u001b[0;34m\u001b[0m\u001b[0;34m\u001b[0m\u001b[0m\n\u001b[0m\u001b[1;32m      2\u001b[0m \u001b[0mmeanweight\u001b[0m\u001b[0;34m=\u001b[0m \u001b[0mmeanweight\u001b[0m\u001b[0;34m[\u001b[0m\u001b[0;34m'weight'\u001b[0m\u001b[0;34m]\u001b[0m\u001b[0;34m.\u001b[0m\u001b[0mmean\u001b[0m\u001b[0;34m(\u001b[0m\u001b[0;34m)\u001b[0m\u001b[0;34m\u001b[0m\u001b[0;34m\u001b[0m\u001b[0m\n\u001b[1;32m      3\u001b[0m \u001b[0mminweight\u001b[0m \u001b[0;34m=\u001b[0m \u001b[0mmpg\u001b[0m\u001b[0;34m[\u001b[0m\u001b[0;34m[\u001b[0m\u001b[0;34m'weight'\u001b[0m\u001b[0;34m]\u001b[0m\u001b[0;34m]\u001b[0m\u001b[0;34m.\u001b[0m\u001b[0mmin\u001b[0m\u001b[0;34m(\u001b[0m\u001b[0;34m)\u001b[0m\u001b[0;34m\u001b[0m\u001b[0;34m\u001b[0m\u001b[0m\n\u001b[1;32m      4\u001b[0m \u001b[0moccweight\u001b[0m \u001b[0;34m=\u001b[0m \u001b[0mmpg\u001b[0m\u001b[0;34m[\u001b[0m\u001b[0;34m[\u001b[0m\u001b[0;34m'weight'\u001b[0m\u001b[0;34m]\u001b[0m\u001b[0;34m]\u001b[0m\u001b[0;34m.\u001b[0m\u001b[0moccurence\u001b[0m\u001b[0;34m(\u001b[0m\u001b[0;34m)\u001b[0m\u001b[0;34m\u001b[0m\u001b[0;34m\u001b[0m\u001b[0m\n\u001b[1;32m      5\u001b[0m \u001b[0mprint\u001b[0m\u001b[0;34m(\u001b[0m\u001b[0;34m\"mean\"\u001b[0m\u001b[0;34m,\u001b[0m\u001b[0mmeanweight\u001b[0m\u001b[0;34m)\u001b[0m\u001b[0;34m\u001b[0m\u001b[0;34m\u001b[0m\u001b[0m\n",
      "\u001b[0;31mNameError\u001b[0m: name 'mpg' is not defined"
     ]
    }
   ],
   "source": [
    "meanweight = mpg.groupby('origin')\n",
    "meanweight= meanweight['weight'].mean()\n",
    "minweight = mpg[['weight']].min()\n",
    "occweight = mpg[['weight']].occurence()\n",
    "print(\"mean\",meanweight)\n",
    "print(\"min\",minweight)\n"
   ]
  },
  {
   "cell_type": "markdown",
   "metadata": {},
   "source": [
    "## Question 9. Calculate the Standard deviation, Skew and Kurtosis for the horsepower, weight and acceleration for each country"
   ]
  },
  {
   "cell_type": "markdown",
   "metadata": {},
   "source": [
    "**Type in your code here**"
   ]
  },
  {
   "cell_type": "code",
   "execution_count": 141,
   "metadata": {},
   "outputs": [
    {
     "name": "stdout",
     "output_type": "stream",
     "text": [
      "Standard deviation of horsepower origin\n",
      "europe    20.157871\n",
      "japan     17.819199\n",
      "usa       39.897790\n",
      "Name: horsepower, dtype: float64 \n",
      "\n",
      "Standard deviation of weight origin\n",
      "europe    491.813867\n",
      "japan     320.497248\n",
      "usa       795.346690\n",
      "Name: weight, dtype: float64 \n",
      "\n",
      "Standard deviation of acceleration origin\n",
      "europe    3.087813\n",
      "japan     1.954937\n",
      "usa       2.736020\n",
      "Name: acceleration, dtype: float64 \n",
      "\n",
      "\n",
      "Skew of horsepower origin\n",
      "europe    0.472850\n",
      "japan     0.660375\n",
      "usa       0.763248\n",
      "Name: horsepower, dtype: float64 \n",
      "\n",
      "Skew of weight origin\n",
      "europe    0.812081\n",
      "japan     0.498497\n",
      "usa       0.067009\n",
      "Name: weight, dtype: float64 \n",
      "\n",
      "Skew of acceleration origin\n",
      "europe    0.945656\n",
      "japan     0.042795\n",
      "usa       0.098737\n",
      "Name: acceleration, dtype: float64 \n",
      "\n",
      "\n",
      "kurtosis horsepower\n",
      " usa  -0.18952147234329608 \n",
      "europe  -0.05951411592299083 \n",
      "japan  -0.1316959100231152\n",
      "\n",
      "kurtosis weight\n",
      " europe  -0.24981293941037874 \n",
      "japan  -0.3806248750860872 \n",
      "usa  -0.9654941402866393\n",
      "\n",
      "kurtosis acceleration\n",
      " europe  0.036290450746115255 \n",
      "japan  -0.5284503385496229 \n",
      "usa  -0.14277428390048064\n"
     ]
    }
   ],
   "source": [
    "#pg.kurtosis()\n",
    "#mpg.skew()\n",
    "mpg = mpg.groupby('origin')\n",
    "\n",
    "mpgusa = mpg2[mpg2['origin']=='usa']\n",
    "mpgeuro = mpg2[mpg2['origin']=='europe']\n",
    "mpgjap = mpg2[mpg2['origin']=='japan']\n",
    "\n",
    "stdhorsepower=mpg['horsepower'].std()\n",
    "stdweight=mpg['weight'].std()\n",
    "stdacceleration= mpg['acceleration'].std()\n",
    "\n",
    "\n",
    "print(\"Standard deviation of horsepower\",stdhorsepower,\"\\n\")\n",
    "print(\"Standard deviation of weight\",stdweight,\"\\n\")\n",
    "print(\"Standard deviation of acceleration\",stdacceleration,\"\\n\\n\")\n",
    "\n",
    "skewhorsepower=mpg['horsepower'].skew()\n",
    "skewweight=mpg['weight'].skew()\n",
    "skewacceleration= mpg['acceleration'].skew()\n",
    "\n",
    "print(\"Skew of horsepower\",skewhorsepower,\"\\n\")\n",
    "print(\"Skew of weight\",skewweight,\"\\n\")\n",
    "print(\"Skew of acceleration\",skewacceleration,\"\\n\\n\")\n",
    "\n",
    "kurtosishpusa = mpgusa['horsepower'].kurtosis()\n",
    "kurtosishpeuro = mpgeuro['horsepower'].kurtosis()\n",
    "kurtosishpjap = mpgjap['horsepower'].kurtosis()\n",
    "\n",
    "kurtosisweusa = mpgusa['weight'].kurtosis()\n",
    "kurtosisweeuro = mpgeuro['weight'].kurtosis()\n",
    "kurtosiswejap = mpgjap['weight'].kurtosis()\n",
    "\n",
    "kurtosisaccusa = mpgusa['acceleration'].kurtosis()\n",
    "kurtosisacceuro = mpgeuro['acceleration'].kurtosis()\n",
    "kurtosisaccjap = mpgjap['acceleration'].kurtosis()\n",
    "\n",
    "print(\"kurtosis horsepower\\n\", \"usa \",kurtosishpusa, \"\\neurope \", kurtosishpeuro,\"\\njapan \", kurtosishpjap)\n",
    "\n",
    "print(\"\\nkurtosis weight\\n\", \"europe \",kurtosisweeuro, \"\\njapan \", kurtosiswejap,\"\\nusa \", kurtosisweusa)\n",
    "\n",
    "print(\"\\nkurtosis acceleration\\n\", \"europe \",kurtosisacceuro, \"\\njapan \", kurtosisaccjap,\"\\nusa \", kurtosisaccusa)"
   ]
  },
  {
   "cell_type": "markdown",
   "metadata": {},
   "source": [
    "## Question 10. How would you describe the acceleration distribution for different country based on the Skew?"
   ]
  },
  {
   "cell_type": "markdown",
   "metadata": {},
   "source": [
    "**Type in your answer here**"
   ]
  },
  {
   "cell_type": "code",
   "execution_count": 136,
   "metadata": {},
   "outputs": [],
   "source": [
    "#For Europe the distribution median is close to the average from the positive side\n",
    "#for Usa the distribution median is close to the average from the positive side\n",
    "#For japan the distribution median isnt close to the average."
   ]
  },
  {
   "cell_type": "markdown",
   "metadata": {},
   "source": [
    "## Question 11. How would you describe the acceleration distribution for different country based on Kurotsis?"
   ]
  },
  {
   "cell_type": "markdown",
   "metadata": {},
   "source": [
    "**Type in your answer here**"
   ]
  },
  {
   "cell_type": "raw",
   "metadata": {},
   "source": [
    "Europe has a higher kurtosis then usa and Japan, meaning it has more outliers. \n",
    "Europe has the lowest Kurtosis which means it has fewer outliers. \n",
    "Usa is in the middle with less outliers then Europe "
   ]
  },
  {
   "cell_type": "markdown",
   "metadata": {},
   "source": [
    "## Question 12. Plot the histogram of acceleration distribution for different country"
   ]
  },
  {
   "cell_type": "markdown",
   "metadata": {},
   "source": [
    "**Type in your code here**"
   ]
  },
  {
   "cell_type": "code",
   "execution_count": 137,
   "metadata": {},
   "outputs": [
    {
     "data": {
      "text/plain": [
       "array([[<matplotlib.axes._subplots.AxesSubplot object at 0x1a17afe940>,\n",
       "        <matplotlib.axes._subplots.AxesSubplot object at 0x1a17e9efd0>],\n",
       "       [<matplotlib.axes._subplots.AxesSubplot object at 0x1a17f445c0>,\n",
       "        <matplotlib.axes._subplots.AxesSubplot object at 0x1a17f70b70>]],\n",
       "      dtype=object)"
      ]
     },
     "execution_count": 137,
     "metadata": {},
     "output_type": "execute_result"
    },
    {
     "data": {
      "image/png": "[encoded data removed]",
      "text/plain": [
       "<Figure size 432x288 with 4 Axes>"
      ]
     },
     "metadata": {
      "needs_background": "light"
     },
     "output_type": "display_data"
    }
   ],
   "source": [
    "mpg['acceleration'].hist(by=mpg['origin'])"
   ]
  },
  {
   "cell_type": "markdown",
   "metadata": {},
   "source": [
    "## Question 13. Calculate correlation of all the factors among themselves"
   ]
  },
  {
   "cell_type": "markdown",
   "metadata": {},
   "source": [
    "**Type in your code here**"
   ]
  },
  {
   "cell_type": "code",
   "execution_count": 140,
   "metadata": {},
   "outputs": [
    {
     "name": "stdout",
     "output_type": "stream",
     "text": [
      "\n",
      "correlation of all data \n",
      "                    mpg  cylinders  displacement  horsepower    weight  \\\n",
      "mpg           1.000000  -0.777618     -0.805127   -0.778427 -0.832244   \n",
      "cylinders    -0.777618   1.000000      0.950823    0.842983  0.897527   \n",
      "displacement -0.805127   0.950823      1.000000    0.897257  0.932994   \n",
      "horsepower   -0.778427   0.842983      0.897257    1.000000  0.864538   \n",
      "weight       -0.832244   0.897527      0.932994    0.864538  1.000000   \n",
      "acceleration  0.423329  -0.504683     -0.543800   -0.689196 -0.416839   \n",
      "model_year    0.580541  -0.345647     -0.369855   -0.416361 -0.309120   \n",
      "\n",
      "              acceleration  model_year  \n",
      "mpg               0.423329    0.580541  \n",
      "cylinders        -0.504683   -0.345647  \n",
      "displacement     -0.543800   -0.369855  \n",
      "horsepower       -0.689196   -0.416361  \n",
      "weight           -0.416839   -0.309120  \n",
      "acceleration      1.000000    0.290316  \n",
      "model_year        0.290316    1.000000  \n"
     ]
    }
   ],
   "source": [
    "print(\"\\ncorrelation of all data \\n\",mpg.corr())"
   ]
  },
  {
   "cell_type": "markdown",
   "metadata": {},
   "source": [
    "## Question 14. Which factors (cylinders, horsepower or weight) will affect your mileage the most based on correlation?"
   ]
  },
  {
   "cell_type": "markdown",
   "metadata": {},
   "source": [
    "**Type in your answer here**"
   ]
  },
  {
   "cell_type": "markdown",
   "metadata": {},
   "source": [
    "Weight will affect the mileage the most based on correlation, whiles cylinders and horsepower are proportional in their affects on mpg(meaning the same amount)."
   ]
  },
  {
   "cell_type": "markdown",
   "metadata": {},
   "source": [
    "## Question 15. Does the result depend on the country? If yes, how?"
   ]
  },
  {
   "cell_type": "markdown",
   "metadata": {},
   "source": [
    "**Type in your code here**"
   ]
  },
  {
   "cell_type": "markdown",
   "metadata": {},
   "source": [
    "The results do depend on the country because each country makes and import different types of vehicles, so the mpg will correlate to different factors per country."
   ]
  },
  {
   "cell_type": "code",
   "execution_count": 139,
   "metadata": {},
   "outputs": [
    {
     "name": "stdout",
     "output_type": "stream",
     "text": [
      "\n",
      "\n",
      "correlation of data for USA \n",
      "                    mpg  cylinders  displacement  horsepower    weight  \\\n",
      "mpg           1.000000  -0.824524     -0.834628   -0.751570 -0.846424   \n",
      "cylinders    -0.824524   1.000000      0.933885    0.827646  0.881609   \n",
      "displacement -0.834628   0.933885      1.000000    0.902744  0.917588   \n",
      "horsepower   -0.751570   0.827646      0.902744    1.000000  0.838450   \n",
      "weight       -0.846424   0.881609      0.917588    0.838450  1.000000   \n",
      "acceleration  0.377239  -0.563293     -0.619890   -0.719191 -0.440230   \n",
      "model_year    0.648641  -0.463986     -0.497591   -0.495009 -0.406388   \n",
      "\n",
      "              acceleration  model_year  \n",
      "mpg               0.377239    0.648641  \n",
      "cylinders        -0.563293   -0.463986  \n",
      "displacement     -0.619890   -0.497591  \n",
      "horsepower       -0.719191   -0.495009  \n",
      "weight           -0.440230   -0.406388  \n",
      "acceleration      1.000000    0.380878  \n",
      "model_year        0.380878    1.000000  \n",
      "\n",
      "\n",
      "correlation of data for Europe \n",
      "                    mpg  cylinders  displacement  horsepower    weight  \\\n",
      "mpg           1.000000  -0.271719     -0.495594   -0.679575 -0.512011   \n",
      "cylinders    -0.271719   1.000000      0.657791    0.392653  0.574767   \n",
      "displacement -0.495594   0.657791      1.000000    0.622043  0.891560   \n",
      "horsepower   -0.679575   0.392653      0.622043    1.000000  0.611619   \n",
      "weight       -0.512011   0.574767      0.891560    0.611619  1.000000   \n",
      "acceleration  0.298047   0.024453      0.038032   -0.544388  0.166325   \n",
      "model_year    0.504231   0.262851      0.206940   -0.132330  0.178178   \n",
      "\n",
      "              acceleration  model_year  \n",
      "mpg               0.298047    0.504231  \n",
      "cylinders         0.024453    0.262851  \n",
      "displacement      0.038032    0.206940  \n",
      "horsepower       -0.544388   -0.132330  \n",
      "weight            0.166325    0.178178  \n",
      "acceleration      1.000000    0.175077  \n",
      "model_year        0.175077    1.000000  \n",
      "\n",
      "\n",
      "correlation of data for Japan\n",
      "                    mpg  cylinders  displacement  horsepower    weight  \\\n",
      "mpg           1.000000  -0.139788     -0.366020   -0.673095 -0.564106   \n",
      "cylinders    -0.139788   1.000000      0.720992    0.431770  0.489184   \n",
      "displacement -0.366020   0.720992      1.000000    0.730176  0.841430   \n",
      "horsepower   -0.673095   0.431770      0.730176    1.000000  0.867589   \n",
      "weight       -0.564106   0.489184      0.841430    0.867589  1.000000   \n",
      "acceleration  0.401114  -0.219675     -0.535590   -0.720149 -0.567682   \n",
      "model_year    0.568662   0.085985      0.120835   -0.215264  0.045365   \n",
      "\n",
      "              acceleration  model_year  \n",
      "mpg               0.401114    0.568662  \n",
      "cylinders        -0.219675    0.085985  \n",
      "displacement     -0.535590    0.120835  \n",
      "horsepower       -0.720149   -0.215264  \n",
      "weight           -0.567682    0.045365  \n",
      "acceleration      1.000000   -0.000944  \n",
      "model_year       -0.000944    1.000000  \n"
     ]
    }
   ],
   "source": [
    "print(\"\\n\\ncorrelation of data for USA \\n\",mpgusa.corr())\n",
    "print(\"\\n\\ncorrelation of data for Europe \\n\",mpgeuro.corr())\n",
    "print(\"\\n\\ncorrelation of data for Japan\\n\",mpgjap.corr())"
   ]
  },
  {
   "cell_type": "markdown",
   "metadata": {},
   "source": [
    "The data above proves my educated guess, as you can see cylinders has a higher correlation for europe\n",
    "whiles Japan has a higher correlation for horsepower\n",
    "UsA seems to not have a standout correlation as all 3 factors are close in correlation"
   ]
  }
 ],
 "metadata": {
  "kernelspec": {
   "display_name": "Python 3",
   "language": "python",
   "name": "python3"
  },
  "language_info": {
   "codemirror_mode": {
    "name": "ipython",
    "version": 3
   },
   "file_extension": ".py",
   "mimetype": "text/x-python",
   "name": "python",
   "nbconvert_exporter": "python",
   "pygments_lexer": "ipython3",
   "version": "3.7.3"
  }
 },
 "nbformat": 4,
 "nbformat_minor": 2
}
